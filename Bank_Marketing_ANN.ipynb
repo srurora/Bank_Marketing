{
  "nbformat": 4,
  "nbformat_minor": 0,
  "metadata": {
    "colab": {
      "name": "Bank_Marketing_ANN.ipynb",
      "provenance": [],
      "collapsed_sections": [],
      "authorship_tag": "ABX9TyO3TE09+H6xK01uZdzplEhL",
      "include_colab_link": true
    },
    "kernelspec": {
      "name": "python3",
      "display_name": "Python 3"
    },
    "accelerator": "GPU"
  },
  "cells": [
    {
      "cell_type": "markdown",
      "metadata": {
        "id": "view-in-github",
        "colab_type": "text"
      },
      "source": [
        "<a href=\"https://colab.research.google.com/github/srurora/Bank_Marketing/blob/master/Bank_Marketing_ANN.ipynb\" target=\"_parent\"><img src=\"https://colab.research.google.com/assets/colab-badge.svg\" alt=\"Open In Colab\"/></a>"
      ]
    },
    {
      "cell_type": "code",
      "metadata": {
        "id": "Tphr5HSHZdE5",
        "colab_type": "code",
        "colab": {}
      },
      "source": [
        "import pandas as pd\n",
        "import numpy as np\n",
        "import matplotlib.pyplot as plt"
      ],
      "execution_count": 1,
      "outputs": []
    },
    {
      "cell_type": "code",
      "metadata": {
        "id": "h1ox7Y4XZe7U",
        "colab_type": "code",
        "colab": {
          "resources": {
            "http://localhost:8080/nbextensions/google.colab/files.js": {
              "data": "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",
              "ok": true,
              "headers": [
                [
                  "content-type",
                  "application/javascript"
                ]
              ],
              "status": 200,
              "status_text": ""
            }
          },
          "base_uri": "https://localhost:8080/",
          "height": 73
        },
        "outputId": "8514b0d5-481f-4b90-f6a9-1514d85ae811"
      },
      "source": [
        "from google.colab import files\n",
        "uploaded = files.upload()"
      ],
      "execution_count": 2,
      "outputs": [
        {
          "output_type": "display_data",
          "data": {
            "text/html": [
              "\n",
              "     <input type=\"file\" id=\"files-ccd07fe5-85cb-4c96-85b0-41c3b27db1a7\" name=\"files[]\" multiple disabled\n",
              "        style=\"border:none\" />\n",
              "     <output id=\"result-ccd07fe5-85cb-4c96-85b0-41c3b27db1a7\">\n",
              "      Upload widget is only available when the cell has been executed in the\n",
              "      current browser session. Please rerun this cell to enable.\n",
              "      </output>\n",
              "      <script src=\"/nbextensions/google.colab/files.js\"></script> "
            ],
            "text/plain": [
              "<IPython.core.display.HTML object>"
            ]
          },
          "metadata": {
            "tags": []
          }
        },
        {
          "output_type": "stream",
          "text": [
            "Saving bank-additional-full.csv to bank-additional-full.csv\n"
          ],
          "name": "stdout"
        }
      ]
    },
    {
      "cell_type": "code",
      "metadata": {
        "id": "smm_52y1ZhSL",
        "colab_type": "code",
        "colab": {}
      },
      "source": [
        "import io\n",
        "data = pd.read_csv(io.BytesIO(uploaded['bank-additional-full.csv']), sep=';')"
      ],
      "execution_count": 3,
      "outputs": []
    },
    {
      "cell_type": "code",
      "metadata": {
        "id": "E7KxNJf2ZnE0",
        "colab_type": "code",
        "colab": {}
      },
      "source": [
        "from sklearn.preprocessing import LabelEncoder, OneHotEncoder\n",
        "\n",
        "le2 = LabelEncoder()\n",
        "data['y'] = le2.fit_transform(data['y'])\n",
        "\n",
        "le1 = LabelEncoder()\n",
        "data['marital'] = le2.fit_transform(data['marital'])\n",
        "le3 = LabelEncoder()\n",
        "data['job'] = le2.fit_transform(data['job'])\n",
        "le4= LabelEncoder()\n",
        "data['education'] = le2.fit_transform(data['education'])\n",
        "le5= LabelEncoder()\n",
        "data['housing'] = le2.fit_transform(data['housing'])\n",
        "le6= LabelEncoder()\n",
        "data['loan'] = le2.fit_transform(data['loan'])\n",
        "le7= LabelEncoder()\n",
        "data['contact'] = le2.fit_transform(data['contact'])\n",
        "le8= LabelEncoder()\n",
        "data['day_of_week'] = le2.fit_transform(data['day_of_week'])\n",
        "le9= LabelEncoder()\n",
        "data['default'] = le2.fit_transform(data['default'])\n",
        "le10= LabelEncoder()\n",
        "data['poutcome'] = le2.fit_transform(data['poutcome'])\n",
        "le11= LabelEncoder()\n",
        "data['month'] = le2.fit_transform(data['month'])"
      ],
      "execution_count": 9,
      "outputs": []
    },
    {
      "cell_type": "code",
      "metadata": {
        "id": "QnyXj3gpaRRL",
        "colab_type": "code",
        "colab": {}
      },
      "source": [
        "# Splitting the dataset into the Training set and Test set\n",
        "from sklearn.model_selection import train_test_split\n",
        "X = data[['age','default', 'job', 'marital', 'education','housing', 'loan',\n",
        "       'contact', 'day_of_week', 'duration', 'campaign', 'pdays',\n",
        "       'previous', 'emp.var.rate', 'cons.price.idx',\n",
        "       'cons.conf.idx', 'euribor3m', 'nr.employed','poutcome','month']]\n",
        "y = data['y']\n",
        "X_train, X_test, y_train, y_test = train_test_split(X, y, test_size = 0.25, random_state = 0)\n"
      ],
      "execution_count": 16,
      "outputs": []
    },
    {
      "cell_type": "code",
      "metadata": {
        "id": "Ws8yZ6rBakf-",
        "colab_type": "code",
        "colab": {}
      },
      "source": [
        "from sklearn.preprocessing import StandardScaler\n",
        "sc = StandardScaler()\n",
        "X_train = sc.fit_transform(X_train)\n",
        "X_test = sc.transform(X_test)"
      ],
      "execution_count": 17,
      "outputs": []
    },
    {
      "cell_type": "code",
      "metadata": {
        "id": "OHJSCxVdanXe",
        "colab_type": "code",
        "colab": {}
      },
      "source": [
        "import keras\n",
        "from keras.models import Sequential\n",
        "from keras.layers import Dense\n",
        "from keras.layers import Dropout\n",
        "\n",
        "#initailise the neural network\n",
        "classifier = Sequential()\n"
      ],
      "execution_count": 18,
      "outputs": []
    },
    {
      "cell_type": "code",
      "metadata": {
        "id": "PNH53bIia-LG",
        "colab_type": "code",
        "colab": {
          "base_uri": "https://localhost:8080/",
          "height": 1000
        },
        "outputId": "5c4535b6-444f-4735-9abc-2a860d5a2e0b"
      },
      "source": [
        "#adding the input layer and the first hidden \n",
        "classifier.add(Dense(input_dim = 20 , output_dim= 6, init='uniform', activation = 'relu'))\n",
        "classifier.add(Dropout(p = 0.5))\n",
        "\n",
        "#add second hidden layer\n",
        "classifier.add(Dense(output_dim= 14, init='uniform', activation = 'relu'))\n",
        "classifier.add(Dropout(p = 0.5))\n",
        "\n",
        "#add third hidden layer\n",
        "classifier.add(Dense(output_dim= 6, init='uniform', activation = 'relu'))\n",
        "classifier.add(Dropout(p = 0.5))\n",
        "\n",
        "#adding the final layer i.e output layer\n",
        "classifier.add(Dense(output_dim= 1, init='uniform', activation = 'sigmoid'))\n",
        "\n",
        "#compiling the ANN\n",
        "classifier.compile(optimizer ='adam',loss = 'binary_crossentropy' , metrics = ['accuracy'])\n",
        "\n",
        "#fitting the ANN to the training set\n",
        "classifier.fit(X_train,y_train, batch_size=10,epochs = 100)\n",
        "\n",
        "# Predicting the Test set results\n",
        "y_pred = classifier.predict(X_test)\n",
        "y_pred = (y_pred > 0.5)"
      ],
      "execution_count": 19,
      "outputs": [
        {
          "output_type": "stream",
          "text": [
            "/usr/local/lib/python3.6/dist-packages/ipykernel_launcher.py:2: UserWarning: Update your `Dense` call to the Keras 2 API: `Dense(input_dim=20, activation=\"relu\", units=6, kernel_initializer=\"uniform\")`\n",
            "  \n",
            "/usr/local/lib/python3.6/dist-packages/ipykernel_launcher.py:3: UserWarning: Update your `Dropout` call to the Keras 2 API: `Dropout(rate=0.5)`\n",
            "  This is separate from the ipykernel package so we can avoid doing imports until\n",
            "/usr/local/lib/python3.6/dist-packages/ipykernel_launcher.py:6: UserWarning: Update your `Dense` call to the Keras 2 API: `Dense(activation=\"relu\", units=14, kernel_initializer=\"uniform\")`\n",
            "  \n",
            "/usr/local/lib/python3.6/dist-packages/ipykernel_launcher.py:7: UserWarning: Update your `Dropout` call to the Keras 2 API: `Dropout(rate=0.5)`\n",
            "  import sys\n",
            "/usr/local/lib/python3.6/dist-packages/ipykernel_launcher.py:10: UserWarning: Update your `Dense` call to the Keras 2 API: `Dense(activation=\"relu\", units=6, kernel_initializer=\"uniform\")`\n",
            "  # Remove the CWD from sys.path while we load stuff.\n",
            "/usr/local/lib/python3.6/dist-packages/ipykernel_launcher.py:11: UserWarning: Update your `Dropout` call to the Keras 2 API: `Dropout(rate=0.5)`\n",
            "  # This is added back by InteractiveShellApp.init_path()\n",
            "/usr/local/lib/python3.6/dist-packages/ipykernel_launcher.py:14: UserWarning: Update your `Dense` call to the Keras 2 API: `Dense(activation=\"sigmoid\", units=1, kernel_initializer=\"uniform\")`\n",
            "  \n"
          ],
          "name": "stderr"
        },
        {
          "output_type": "stream",
          "text": [
            "Epoch 1/100\n",
            "30891/30891 [==============================] - 10s 324us/step - loss: 0.3006 - accuracy: 0.8872\n",
            "Epoch 2/100\n",
            "30891/30891 [==============================] - 10s 318us/step - loss: 0.2521 - accuracy: 0.8873\n",
            "Epoch 3/100\n",
            "30891/30891 [==============================] - 10s 318us/step - loss: 0.2501 - accuracy: 0.8873\n",
            "Epoch 4/100\n",
            "30891/30891 [==============================] - 10s 316us/step - loss: 0.2510 - accuracy: 0.8873\n",
            "Epoch 5/100\n",
            "30891/30891 [==============================] - 10s 316us/step - loss: 0.2534 - accuracy: 0.8873\n",
            "Epoch 6/100\n",
            "30891/30891 [==============================] - 10s 326us/step - loss: 0.2491 - accuracy: 0.8873\n",
            "Epoch 7/100\n",
            "30891/30891 [==============================] - 10s 335us/step - loss: 0.2480 - accuracy: 0.8873\n",
            "Epoch 8/100\n",
            "30891/30891 [==============================] - 10s 316us/step - loss: 0.2485 - accuracy: 0.8873\n",
            "Epoch 9/100\n",
            "30891/30891 [==============================] - 10s 315us/step - loss: 0.2476 - accuracy: 0.8873\n",
            "Epoch 10/100\n",
            "30891/30891 [==============================] - 10s 316us/step - loss: 0.2494 - accuracy: 0.8873\n",
            "Epoch 11/100\n",
            "30891/30891 [==============================] - 10s 316us/step - loss: 0.2479 - accuracy: 0.8873\n",
            "Epoch 12/100\n",
            "30891/30891 [==============================] - 10s 316us/step - loss: 0.2487 - accuracy: 0.8873\n",
            "Epoch 13/100\n",
            "30891/30891 [==============================] - 10s 315us/step - loss: 0.2477 - accuracy: 0.8873\n",
            "Epoch 14/100\n",
            "30891/30891 [==============================] - 10s 318us/step - loss: 0.2466 - accuracy: 0.8873\n",
            "Epoch 15/100\n",
            "30891/30891 [==============================] - 10s 322us/step - loss: 0.2475 - accuracy: 0.8873\n",
            "Epoch 16/100\n",
            "30891/30891 [==============================] - 10s 315us/step - loss: 0.2463 - accuracy: 0.8873\n",
            "Epoch 17/100\n",
            "30891/30891 [==============================] - 10s 313us/step - loss: 0.2461 - accuracy: 0.8873\n",
            "Epoch 18/100\n",
            "30891/30891 [==============================] - 10s 316us/step - loss: 0.2468 - accuracy: 0.8873\n",
            "Epoch 19/100\n",
            "30891/30891 [==============================] - 10s 313us/step - loss: 0.2445 - accuracy: 0.8873\n",
            "Epoch 20/100\n",
            "30891/30891 [==============================] - 10s 312us/step - loss: 0.2471 - accuracy: 0.8873\n",
            "Epoch 21/100\n",
            "30891/30891 [==============================] - 10s 316us/step - loss: 0.2443 - accuracy: 0.8873\n",
            "Epoch 22/100\n",
            "30891/30891 [==============================] - 10s 316us/step - loss: 0.2459 - accuracy: 0.8873\n",
            "Epoch 23/100\n",
            "30891/30891 [==============================] - 10s 317us/step - loss: 0.2458 - accuracy: 0.8873\n",
            "Epoch 24/100\n",
            "30891/30891 [==============================] - 10s 316us/step - loss: 0.2416 - accuracy: 0.8873\n",
            "Epoch 25/100\n",
            "30891/30891 [==============================] - 10s 316us/step - loss: 0.2433 - accuracy: 0.8873\n",
            "Epoch 26/100\n",
            "30891/30891 [==============================] - 10s 313us/step - loss: 0.2433 - accuracy: 0.8873\n",
            "Epoch 27/100\n",
            "30891/30891 [==============================] - 10s 313us/step - loss: 0.2455 - accuracy: 0.8873\n",
            "Epoch 28/100\n",
            "30891/30891 [==============================] - 10s 316us/step - loss: 0.2449 - accuracy: 0.8873\n",
            "Epoch 29/100\n",
            "30891/30891 [==============================] - 10s 319us/step - loss: 0.2437 - accuracy: 0.8873\n",
            "Epoch 30/100\n",
            "30891/30891 [==============================] - 10s 320us/step - loss: 0.2436 - accuracy: 0.8873\n",
            "Epoch 31/100\n",
            "30891/30891 [==============================] - 10s 322us/step - loss: 0.2419 - accuracy: 0.8873\n",
            "Epoch 32/100\n",
            "30891/30891 [==============================] - 10s 317us/step - loss: 0.2438 - accuracy: 0.8873\n",
            "Epoch 33/100\n",
            "30891/30891 [==============================] - 10s 317us/step - loss: 0.2456 - accuracy: 0.8873\n",
            "Epoch 34/100\n",
            "30891/30891 [==============================] - 10s 316us/step - loss: 0.2410 - accuracy: 0.8873\n",
            "Epoch 35/100\n",
            "30891/30891 [==============================] - 10s 317us/step - loss: 0.2431 - accuracy: 0.8873\n",
            "Epoch 36/100\n",
            "30891/30891 [==============================] - 10s 318us/step - loss: 0.2433 - accuracy: 0.8873\n",
            "Epoch 37/100\n",
            "30891/30891 [==============================] - 10s 317us/step - loss: 0.2416 - accuracy: 0.8873\n",
            "Epoch 38/100\n",
            "30891/30891 [==============================] - 10s 330us/step - loss: 0.2420 - accuracy: 0.8873\n",
            "Epoch 39/100\n",
            "30891/30891 [==============================] - 10s 334us/step - loss: 0.2399 - accuracy: 0.8873\n",
            "Epoch 40/100\n",
            "30891/30891 [==============================] - 10s 319us/step - loss: 0.2441 - accuracy: 0.8873\n",
            "Epoch 41/100\n",
            "30891/30891 [==============================] - 10s 318us/step - loss: 0.2446 - accuracy: 0.8873\n",
            "Epoch 42/100\n",
            "30891/30891 [==============================] - 10s 317us/step - loss: 0.2399 - accuracy: 0.8873\n",
            "Epoch 43/100\n",
            "30891/30891 [==============================] - 10s 318us/step - loss: 0.2447 - accuracy: 0.8873\n",
            "Epoch 44/100\n",
            "30891/30891 [==============================] - 10s 317us/step - loss: 0.2413 - accuracy: 0.8873\n",
            "Epoch 45/100\n",
            "30891/30891 [==============================] - 10s 317us/step - loss: 0.2419 - accuracy: 0.8873\n",
            "Epoch 46/100\n",
            "30891/30891 [==============================] - 10s 326us/step - loss: 0.2402 - accuracy: 0.8873\n",
            "Epoch 47/100\n",
            "30891/30891 [==============================] - 10s 322us/step - loss: 0.2412 - accuracy: 0.8873\n",
            "Epoch 48/100\n",
            "30891/30891 [==============================] - 10s 319us/step - loss: 0.2396 - accuracy: 0.8873\n",
            "Epoch 49/100\n",
            "30891/30891 [==============================] - 10s 316us/step - loss: 0.2425 - accuracy: 0.8873\n",
            "Epoch 50/100\n",
            "30891/30891 [==============================] - 10s 318us/step - loss: 0.2388 - accuracy: 0.8873\n",
            "Epoch 51/100\n",
            "30891/30891 [==============================] - 10s 317us/step - loss: 0.2429 - accuracy: 0.8873\n",
            "Epoch 52/100\n",
            "30891/30891 [==============================] - 10s 317us/step - loss: 0.2403 - accuracy: 0.8873\n",
            "Epoch 53/100\n",
            "30891/30891 [==============================] - 10s 318us/step - loss: 0.2404 - accuracy: 0.8873\n",
            "Epoch 54/100\n",
            "30891/30891 [==============================] - 10s 319us/step - loss: 0.2397 - accuracy: 0.8873\n",
            "Epoch 55/100\n",
            "30891/30891 [==============================] - 10s 322us/step - loss: 0.2402 - accuracy: 0.8873\n",
            "Epoch 56/100\n",
            "30891/30891 [==============================] - 10s 319us/step - loss: 0.2401 - accuracy: 0.8873\n",
            "Epoch 57/100\n",
            "30891/30891 [==============================] - 10s 316us/step - loss: 0.2444 - accuracy: 0.8873\n",
            "Epoch 58/100\n",
            "30891/30891 [==============================] - 10s 316us/step - loss: 0.2378 - accuracy: 0.8873\n",
            "Epoch 59/100\n",
            "30891/30891 [==============================] - 10s 317us/step - loss: 0.2415 - accuracy: 0.8873\n",
            "Epoch 60/100\n",
            "30891/30891 [==============================] - 10s 318us/step - loss: 0.2401 - accuracy: 0.8873\n",
            "Epoch 61/100\n",
            "30891/30891 [==============================] - 10s 316us/step - loss: 0.2410 - accuracy: 0.8873\n",
            "Epoch 62/100\n",
            "30891/30891 [==============================] - 10s 317us/step - loss: 0.2384 - accuracy: 0.8873\n",
            "Epoch 63/100\n",
            "30891/30891 [==============================] - 10s 319us/step - loss: 0.2390 - accuracy: 0.8873\n",
            "Epoch 64/100\n",
            "30891/30891 [==============================] - 10s 318us/step - loss: 0.2397 - accuracy: 0.8873\n",
            "Epoch 65/100\n",
            "30891/30891 [==============================] - 10s 317us/step - loss: 0.2418 - accuracy: 0.8873\n",
            "Epoch 66/100\n",
            "30891/30891 [==============================] - 10s 318us/step - loss: 0.2386 - accuracy: 0.8873\n",
            "Epoch 67/100\n",
            "30891/30891 [==============================] - 10s 317us/step - loss: 0.2427 - accuracy: 0.8873\n",
            "Epoch 68/100\n",
            "30891/30891 [==============================] - 10s 318us/step - loss: 0.2389 - accuracy: 0.8873\n",
            "Epoch 69/100\n",
            "30891/30891 [==============================] - 10s 316us/step - loss: 0.2397 - accuracy: 0.8873\n",
            "Epoch 70/100\n",
            "30891/30891 [==============================] - 11s 340us/step - loss: 0.2414 - accuracy: 0.8873\n",
            "Epoch 71/100\n",
            "30891/30891 [==============================] - 10s 323us/step - loss: 0.2408 - accuracy: 0.8873\n",
            "Epoch 72/100\n",
            "30891/30891 [==============================] - 10s 319us/step - loss: 0.2408 - accuracy: 0.8873\n",
            "Epoch 73/100\n",
            "30891/30891 [==============================] - 10s 316us/step - loss: 0.2371 - accuracy: 0.8873\n",
            "Epoch 74/100\n",
            "30891/30891 [==============================] - 10s 317us/step - loss: 0.2408 - accuracy: 0.8873\n",
            "Epoch 75/100\n",
            "30891/30891 [==============================] - 10s 317us/step - loss: 0.2381 - accuracy: 0.8873\n",
            "Epoch 76/100\n",
            "30891/30891 [==============================] - 10s 318us/step - loss: 0.2395 - accuracy: 0.8873\n",
            "Epoch 77/100\n",
            "30891/30891 [==============================] - 10s 326us/step - loss: 0.2411 - accuracy: 0.8873\n",
            "Epoch 78/100\n",
            "30891/30891 [==============================] - 10s 317us/step - loss: 0.2400 - accuracy: 0.8873\n",
            "Epoch 79/100\n",
            "30891/30891 [==============================] - 10s 318us/step - loss: 0.2401 - accuracy: 0.8873\n",
            "Epoch 80/100\n",
            "30891/30891 [==============================] - 10s 317us/step - loss: 0.2415 - accuracy: 0.8873\n",
            "Epoch 81/100\n",
            "30891/30891 [==============================] - 10s 316us/step - loss: 0.2376 - accuracy: 0.8873\n",
            "Epoch 82/100\n",
            "30891/30891 [==============================] - 10s 316us/step - loss: 0.2396 - accuracy: 0.8873\n",
            "Epoch 83/100\n",
            "30891/30891 [==============================] - 10s 316us/step - loss: 0.2396 - accuracy: 0.8873\n",
            "Epoch 84/100\n",
            "30891/30891 [==============================] - 10s 315us/step - loss: 0.2392 - accuracy: 0.8873\n",
            "Epoch 85/100\n",
            "30891/30891 [==============================] - 10s 318us/step - loss: 0.2391 - accuracy: 0.8873\n",
            "Epoch 86/100\n",
            "30891/30891 [==============================] - 10s 319us/step - loss: 0.2392 - accuracy: 0.8873\n",
            "Epoch 87/100\n",
            "30891/30891 [==============================] - 10s 318us/step - loss: 0.2402 - accuracy: 0.8873\n",
            "Epoch 88/100\n",
            "30891/30891 [==============================] - 10s 322us/step - loss: 0.2386 - accuracy: 0.8873\n",
            "Epoch 89/100\n",
            "30891/30891 [==============================] - 10s 317us/step - loss: 0.2418 - accuracy: 0.8873\n",
            "Epoch 90/100\n",
            "30891/30891 [==============================] - 10s 316us/step - loss: 0.2401 - accuracy: 0.8873\n",
            "Epoch 91/100\n",
            "30891/30891 [==============================] - 10s 320us/step - loss: 0.2412 - accuracy: 0.8873\n",
            "Epoch 92/100\n",
            "30891/30891 [==============================] - 10s 318us/step - loss: 0.2406 - accuracy: 0.8873\n",
            "Epoch 93/100\n",
            "30891/30891 [==============================] - 10s 315us/step - loss: 0.2393 - accuracy: 0.8873\n",
            "Epoch 94/100\n",
            "30891/30891 [==============================] - 10s 314us/step - loss: 0.2390 - accuracy: 0.8873\n",
            "Epoch 95/100\n",
            "30891/30891 [==============================] - 10s 317us/step - loss: 0.2410 - accuracy: 0.8873\n",
            "Epoch 96/100\n",
            "30891/30891 [==============================] - 10s 318us/step - loss: 0.2443 - accuracy: 0.8873\n",
            "Epoch 97/100\n",
            "30891/30891 [==============================] - 10s 317us/step - loss: 0.2388 - accuracy: 0.8873\n",
            "Epoch 98/100\n",
            "30891/30891 [==============================] - 10s 314us/step - loss: 0.2388 - accuracy: 0.8873\n",
            "Epoch 99/100\n",
            "30891/30891 [==============================] - 10s 314us/step - loss: 0.2384 - accuracy: 0.8873\n",
            "Epoch 100/100\n",
            "30891/30891 [==============================] - 10s 315us/step - loss: 0.2374 - accuracy: 0.8873\n"
          ],
          "name": "stdout"
        }
      ]
    },
    {
      "cell_type": "code",
      "metadata": {
        "id": "dyYjlE3Jb_qo",
        "colab_type": "code",
        "colab": {}
      },
      "source": [
        ""
      ],
      "execution_count": null,
      "outputs": []
    }
  ]
}